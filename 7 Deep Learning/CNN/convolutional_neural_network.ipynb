{
 "nbformat": 4,
 "nbformat_minor": 0,
 "metadata": {
  "colab": {
   "name": "convolutional_neural_network.ipynb",
   "provenance": [],
   "collapsed_sections": [],
   "toc_visible": true,
   "authorship_tag": "ABX9TyON0YxX/oky4tPbqCLnFjWD"
  },
  "kernelspec": {
   "name": "python3",
   "display_name": "Python 3"
  }
 },
 "cells": [
  {
   "cell_type": "markdown",
   "metadata": {
    "id": "3DR-eO17geWu",
    "colab_type": "text"
   },
   "source": [
    "# Convolutional Neural Network"
   ]
  },
  {
   "cell_type": "markdown",
   "metadata": {
    "id": "EMefrVPCg-60",
    "colab_type": "text"
   },
   "source": [
    "### Importing the libraries"
   ]
  },
  {
   "cell_type": "code",
   "metadata": {
    "id": "sCV30xyVhFbE",
    "colab_type": "code",
    "colab": {}
   },
   "source": [
    "import tensorflow as tf\n",
    "import scipy\n",
    "from keras.preprocessing.image import ImageDataGenerator"
   ],
   "execution_count": 1,
   "outputs": []
  },
  {
   "cell_type": "code",
   "metadata": {
    "id": "FIleuCAjoFD8",
    "colab_type": "code",
    "colab": {}
   },
   "source": [
    "tf.__version__"
   ],
   "execution_count": 2,
   "outputs": [
    {
     "data": {
      "text/plain": "'2.11.0'"
     },
     "execution_count": 2,
     "metadata": {},
     "output_type": "execute_result"
    }
   ]
  },
  {
   "cell_type": "markdown",
   "metadata": {
    "id": "oxQxCBWyoGPE",
    "colab_type": "text"
   },
   "source": [
    "## Part 1 - Data Preprocessing"
   ]
  },
  {
   "cell_type": "markdown",
   "metadata": {
    "id": "MvE-heJNo3GG",
    "colab_type": "text"
   },
   "source": [
    "### Preprocessing the Training set\n",
    "\"\"\"\n",
    "The reason why we want to apply some transformations\n",
    "on the images of the training set is for only one purpose.\n",
    "It is to avoid over fitting.\n",
    "Indeed, if we don't apply these transformations,\n",
    "when training our CNN on the training set\n",
    "we will get a huge difference\n",
    "between the accuracy on the training set\n",
    "\"\"\""
   ]
  },
  {
   "cell_type": "code",
   "metadata": {
    "id": "0koUcJMJpEBD",
    "colab_type": "code",
    "colab": {}
   },
   "source": [
    "\"\"\"\n",
    "all these transformations is called 'Image Augmentation' which consists basically of transforming your images of the training set so that your CNN model doesn't over-learn, is not over trained on the existing images\n",
    "\"\"\"\n",
    "train_datagen = ImageDataGenerator(\n",
    "    rescale=1.0/255,\n",
    "    shear_range=0.2,\n",
    "    zoom_range=0.2,\n",
    "    horizontal_flip=True\n",
    ")\n",
    "training_set = train_datagen.flow_from_directory(\n",
    "    'dataset\\\\training_set',\n",
    "    target_size=(64,64),\n",
    "    batch_size=32,\n",
    "    class_mode='binary'\n",
    ")"
   ],
   "execution_count": 3,
   "outputs": [
    {
     "name": "stdout",
     "output_type": "stream",
     "text": [
      "Found 8000 images belonging to 2 classes.\n"
     ]
    }
   ]
  },
  {
   "cell_type": "markdown",
   "metadata": {
    "id": "mrCMmGw9pHys",
    "colab_type": "text"
   },
   "source": [
    "### Preprocessing the Test set"
   ]
  },
  {
   "cell_type": "code",
   "metadata": {
    "id": "SH4WzfOhpKc3",
    "colab_type": "code",
    "colab": {}
   },
   "source": [
    "test_datagen = ImageDataGenerator(rescale=1.0/255)\n",
    "test_set = test_datagen.flow_from_directory(\n",
    "    'dataset\\\\test_set',\n",
    "    target_size=(64,64),\n",
    "    batch_size=32,\n",
    "    class_mode='binary'\n",
    ")"
   ],
   "execution_count": 4,
   "outputs": [
    {
     "name": "stdout",
     "output_type": "stream",
     "text": [
      "Found 2000 images belonging to 2 classes.\n"
     ]
    }
   ]
  },
  {
   "cell_type": "markdown",
   "metadata": {
    "id": "af8O4l90gk7B",
    "colab_type": "text"
   },
   "source": [
    "## Part 2 - Building the CNN"
   ]
  },
  {
   "cell_type": "markdown",
   "metadata": {
    "id": "ces1gXY2lmoX",
    "colab_type": "text"
   },
   "source": [
    "### Initialising the CNN"
   ]
  },
  {
   "cell_type": "code",
   "metadata": {
    "id": "SAUt4UMPlhLS",
    "colab_type": "code",
    "colab": {}
   },
   "source": [
    "cnn = tf.keras.models.Sequential()"
   ],
   "execution_count": 5,
   "outputs": []
  },
  {
   "cell_type": "markdown",
   "metadata": {
    "id": "u5YJj_XMl5LF",
    "colab_type": "text"
   },
   "source": [
    "### Step 1 - Convolution"
   ]
  },
  {
   "cell_type": "code",
   "metadata": {
    "id": "XPzPrMckl-hV",
    "colab_type": "code",
    "colab": {}
   },
   "source": [
    "cnn.add(tf.keras.layers.Conv2D(filters=32,\n",
    "                               kernel_size=3,\n",
    "                               activation='relu',\n",
    "                               input_shape=[64,64,3]))"
   ],
   "execution_count": 6,
   "outputs": []
  },
  {
   "cell_type": "markdown",
   "metadata": {
    "id": "tf87FpvxmNOJ",
    "colab_type": "text"
   },
   "source": [
    "### Step 2 - Pooling"
   ]
  },
  {
   "cell_type": "code",
   "metadata": {
    "id": "ncpqPl69mOac",
    "colab_type": "code",
    "colab": {}
   },
   "source": [
    "cnn.add(tf.keras.layers.MaxPool2D(pool_size=2,strides=2))"
   ],
   "execution_count": 7,
   "outputs": []
  },
  {
   "cell_type": "markdown",
   "metadata": {
    "id": "xaTOgD8rm4mU",
    "colab_type": "text"
   },
   "source": [
    "### Adding a second convolutional layer"
   ]
  },
  {
   "cell_type": "code",
   "metadata": {
    "id": "i_-FZjn_m8gk",
    "colab_type": "code",
    "colab": {}
   },
   "source": [
    "cnn.add(tf.keras.layers.Conv2D(filters=32, kernel_size=3,activation='relu'))\n",
    "cnn.add(tf.keras.layers.MaxPool2D(pool_size=2,strides=2))"
   ],
   "execution_count": 8,
   "outputs": []
  },
  {
   "cell_type": "markdown",
   "metadata": {
    "id": "tmiEuvTunKfk",
    "colab_type": "text"
   },
   "source": [
    "### Step 3 - Flattening"
   ]
  },
  {
   "cell_type": "code",
   "metadata": {
    "id": "6AZeOGCvnNZn",
    "colab_type": "code",
    "colab": {}
   },
   "source": [
    "cnn.add(tf.keras.layers.Flatten())"
   ],
   "execution_count": 9,
   "outputs": []
  },
  {
   "cell_type": "markdown",
   "metadata": {
    "id": "dAoSECOm203v",
    "colab_type": "text"
   },
   "source": [
    "### Step 4 - Full Connection"
   ]
  },
  {
   "cell_type": "code",
   "metadata": {
    "id": "8GtmUlLd26Nq",
    "colab_type": "code",
    "colab": {}
   },
   "source": [
    "cnn.add(tf.keras.layers.Dense(units=128,activation='relu'))"
   ],
   "execution_count": 10,
   "outputs": []
  },
  {
   "cell_type": "markdown",
   "metadata": {
    "id": "yTldFvbX28Na",
    "colab_type": "text"
   },
   "source": [
    "### Step 5 - Output Layer"
   ]
  },
  {
   "cell_type": "code",
   "metadata": {
    "id": "1p_Zj1Mc3Ko_",
    "colab_type": "code",
    "colab": {}
   },
   "source": [
    "cnn.add(tf.keras.layers.Dense(units=1,activation='sigmoid'))"
   ],
   "execution_count": 11,
   "outputs": []
  },
  {
   "cell_type": "markdown",
   "metadata": {
    "id": "D6XkI90snSDl",
    "colab_type": "text"
   },
   "source": [
    "## Part 3 - Training the CNN"
   ]
  },
  {
   "cell_type": "markdown",
   "metadata": {
    "id": "vfrFQACEnc6i",
    "colab_type": "text"
   },
   "source": [
    "### Compiling the CNN"
   ]
  },
  {
   "cell_type": "code",
   "metadata": {
    "id": "NALksrNQpUlJ",
    "colab_type": "code",
    "colab": {}
   },
   "source": [
    "cnn.compile(optimizer='adam', loss='binary_crossentropy', metrics=['accuracy'])"
   ],
   "execution_count": 12,
   "outputs": []
  },
  {
   "cell_type": "markdown",
   "metadata": {
    "id": "ehS-v3MIpX2h",
    "colab_type": "text"
   },
   "source": [
    "### Training the CNN on the Training set and evaluating it on the Test set"
   ]
  },
  {
   "cell_type": "code",
   "metadata": {
    "id": "XUj1W4PJptta",
    "colab_type": "code",
    "colab": {}
   },
   "source": [
    "cnn.fit(x=training_set, validation_data=test_set, epochs=25)"
   ],
   "execution_count": 13,
   "outputs": [
    {
     "name": "stdout",
     "output_type": "stream",
     "text": [
      "Epoch 1/25\n",
      "250/250 [==============================] - 39s 152ms/step - loss: 0.6863 - accuracy: 0.5540 - val_loss: 0.6525 - val_accuracy: 0.6080\n",
      "Epoch 2/25\n",
      "250/250 [==============================] - 37s 149ms/step - loss: 0.6229 - accuracy: 0.6580 - val_loss: 0.5797 - val_accuracy: 0.7150\n",
      "Epoch 3/25\n",
      "250/250 [==============================] - 37s 149ms/step - loss: 0.5870 - accuracy: 0.6971 - val_loss: 0.5477 - val_accuracy: 0.7285\n",
      "Epoch 4/25\n",
      "250/250 [==============================] - 37s 148ms/step - loss: 0.5548 - accuracy: 0.7138 - val_loss: 0.5328 - val_accuracy: 0.7320\n",
      "Epoch 5/25\n",
      "250/250 [==============================] - 46s 184ms/step - loss: 0.5365 - accuracy: 0.7312 - val_loss: 0.5615 - val_accuracy: 0.7075\n",
      "Epoch 6/25\n",
      "250/250 [==============================] - 37s 147ms/step - loss: 0.5120 - accuracy: 0.7474 - val_loss: 0.5131 - val_accuracy: 0.7510\n",
      "Epoch 7/25\n",
      "250/250 [==============================] - 37s 149ms/step - loss: 0.4991 - accuracy: 0.7545 - val_loss: 0.5032 - val_accuracy: 0.7585\n",
      "Epoch 8/25\n",
      "250/250 [==============================] - 37s 146ms/step - loss: 0.4842 - accuracy: 0.7692 - val_loss: 0.4935 - val_accuracy: 0.7650\n",
      "Epoch 9/25\n",
      "250/250 [==============================] - 38s 151ms/step - loss: 0.4727 - accuracy: 0.7742 - val_loss: 0.4948 - val_accuracy: 0.7660\n",
      "Epoch 10/25\n",
      "250/250 [==============================] - 37s 146ms/step - loss: 0.4632 - accuracy: 0.7819 - val_loss: 0.4718 - val_accuracy: 0.7785\n",
      "Epoch 11/25\n",
      "250/250 [==============================] - 38s 154ms/step - loss: 0.4513 - accuracy: 0.7862 - val_loss: 0.5126 - val_accuracy: 0.7510\n",
      "Epoch 12/25\n",
      "250/250 [==============================] - 40s 159ms/step - loss: 0.4504 - accuracy: 0.7875 - val_loss: 0.4892 - val_accuracy: 0.7580\n",
      "Epoch 13/25\n",
      "250/250 [==============================] - 39s 155ms/step - loss: 0.4354 - accuracy: 0.7934 - val_loss: 0.4702 - val_accuracy: 0.7840\n",
      "Epoch 14/25\n",
      "250/250 [==============================] - 38s 150ms/step - loss: 0.4208 - accuracy: 0.8027 - val_loss: 0.4525 - val_accuracy: 0.7930\n",
      "Epoch 15/25\n",
      "250/250 [==============================] - 37s 149ms/step - loss: 0.4074 - accuracy: 0.8109 - val_loss: 0.4967 - val_accuracy: 0.7750\n",
      "Epoch 16/25\n",
      "250/250 [==============================] - 38s 151ms/step - loss: 0.3975 - accuracy: 0.8139 - val_loss: 0.4634 - val_accuracy: 0.7875\n",
      "Epoch 17/25\n",
      "250/250 [==============================] - 37s 148ms/step - loss: 0.3906 - accuracy: 0.8190 - val_loss: 0.4506 - val_accuracy: 0.7980\n",
      "Epoch 18/25\n",
      "250/250 [==============================] - 38s 151ms/step - loss: 0.3838 - accuracy: 0.8200 - val_loss: 0.4520 - val_accuracy: 0.7990\n",
      "Epoch 19/25\n",
      "250/250 [==============================] - 37s 149ms/step - loss: 0.3642 - accuracy: 0.8330 - val_loss: 0.5050 - val_accuracy: 0.7775\n",
      "Epoch 20/25\n",
      "250/250 [==============================] - 37s 150ms/step - loss: 0.3658 - accuracy: 0.8379 - val_loss: 0.4451 - val_accuracy: 0.8095\n",
      "Epoch 21/25\n",
      "250/250 [==============================] - 38s 153ms/step - loss: 0.3636 - accuracy: 0.8369 - val_loss: 0.4667 - val_accuracy: 0.7980\n",
      "Epoch 22/25\n",
      "250/250 [==============================] - 37s 148ms/step - loss: 0.3570 - accuracy: 0.8371 - val_loss: 0.4921 - val_accuracy: 0.7880\n",
      "Epoch 23/25\n",
      "250/250 [==============================] - 38s 152ms/step - loss: 0.3429 - accuracy: 0.8499 - val_loss: 0.4502 - val_accuracy: 0.8015\n",
      "Epoch 24/25\n",
      "250/250 [==============================] - 37s 149ms/step - loss: 0.3373 - accuracy: 0.8561 - val_loss: 0.4488 - val_accuracy: 0.8040\n",
      "Epoch 25/25\n",
      "250/250 [==============================] - 39s 158ms/step - loss: 0.3306 - accuracy: 0.8524 - val_loss: 0.4577 - val_accuracy: 0.8055\n"
     ]
    },
    {
     "data": {
      "text/plain": "<keras.callbacks.History at 0x19baf02ffd0>"
     },
     "execution_count": 13,
     "metadata": {},
     "output_type": "execute_result"
    }
   ]
  },
  {
   "cell_type": "markdown",
   "metadata": {
    "id": "U3PZasO0006Z",
    "colab_type": "text"
   },
   "source": [
    "## Part 4 - Making a single prediction"
   ]
  },
  {
   "cell_type": "code",
   "metadata": {
    "id": "gsSiWEJY1BPB",
    "colab_type": "code",
    "colab": {}
   },
   "source": [
    "import numpy as np\n",
    "# from keras.preprocessing import image\n",
    "test_image = tf.keras.utils.load_img('dataset\\\\scotch\\\\scotch.jpg', target_size=(64,64))\n",
    "test_image = tf.keras.utils.img_to_array(test_image)\n",
    "test_image = np.expand_dims(test_image, axis=0)\n",
    "result = cnn.predict(test_image)\n",
    "if result[0][0] == 1:\n",
    "    prediction = 'dog'\n",
    "else:\n",
    "    prediction ='cat'"
   ],
   "execution_count": 14,
   "outputs": [
    {
     "name": "stdout",
     "output_type": "stream",
     "text": [
      "1/1 [==============================] - 0s 140ms/step\n",
      "[[1.]]\n"
     ]
    }
   ]
  },
  {
   "cell_type": "code",
   "metadata": {
    "id": "ED9KB3I54c1i",
    "colab_type": "code",
    "colab": {}
   },
   "source": [
    "print(prediction)"
   ],
   "execution_count": 15,
   "outputs": [
    {
     "name": "stdout",
     "output_type": "stream",
     "text": [
      "dog\n"
     ]
    }
   ]
  },
  {
   "cell_type": "code",
   "execution_count": 17,
   "outputs": [],
   "source": [],
   "metadata": {
    "collapsed": false
   }
  }
 ]
}
